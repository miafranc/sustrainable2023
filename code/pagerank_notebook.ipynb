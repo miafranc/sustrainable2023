{
 "cells": [
  {
   "cell_type": "code",
   "execution_count": null,
   "metadata": {},
   "outputs": [],
   "source": [
    "import numpy as np\n",
    "import pandas as pd\n",
    "from pprint import pprint\n",
    "import math\n",
    "from sklearn.preprocessing import normalize\n",
    "from scipy.sparse import csr_matrix\n",
    "from itertools import combinations"
   ]
  },
  {
   "cell_type": "code",
   "execution_count": null,
   "metadata": {},
   "outputs": [],
   "source": [
    "alpha = 0.15\n",
    "iterations = 10"
   ]
  },
  {
   "cell_type": "code",
   "execution_count": null,
   "metadata": {},
   "outputs": [],
   "source": [
    "def tokenize(names):\n",
    "    return [name.strip().lower() for name in names.split(',')]"
   ]
  },
  {
   "cell_type": "code",
   "execution_count": null,
   "metadata": {},
   "outputs": [],
   "source": [
    "def pagerank(B):\n",
    "    A = B.T\n",
    "    n = B.shape[0]\n",
    "\n",
    "    r = np.ones((n,)) / n\n",
    "    # r = np.ones((n,))\n",
    "    # r = np.zeros((n,))\n",
    "\n",
    "    for i in range(iterations):\n",
    "        r = (1 - alpha) * A @ r + alpha/n\n",
    "\n",
    "    return r"
   ]
  },
  {
   "cell_type": "code",
   "execution_count": null,
   "metadata": {},
   "outputs": [],
   "source": [
    "data = pd.read_csv('NetFlix.csv')\n",
    "data = data.to_dict()\n",
    "pprint(data.keys())"
   ]
  },
  {
   "cell_type": "code",
   "execution_count": null,
   "metadata": {},
   "outputs": [],
   "source": [
    "\n",
    "actors = [tokenize(data['cast'][k]) for k in data['cast'].keys() if type(data['cast'][k]) == str]\n",
    "\n",
    "actors_all = list(set([a for movie in actors for a in movie]))\n",
    "actors_map = {a:i for i,a in enumerate(actors_all)}\n",
    "actors_map_i = {i:a for i,a in enumerate(actors_all)}\n",
    "print(len(actors_all))\n",
    "\n",
    "pairs = {}\n",
    "\n",
    "for movie in actors: \n",
    "    for a in combinations(movie, 2):\n",
    "        if actors_map[a[0]] < actors_map[a[1]]:\n",
    "            i = actors_map[a[0]]\n",
    "            j = actors_map[a[1]]\n",
    "        else:\n",
    "            i = actors_map[a[1]]\n",
    "            j = actors_map[a[0]]\n",
    "        pairs[(i, j)] = pairs.get((i, j), 0) + 1\n",
    "    \n",
    "row = []\n",
    "col = []\n",
    "val = []\n",
    "\n",
    "for p in pairs.items():\n",
    "    row.append(p[0][0])\n",
    "    col.append(p[0][1])\n",
    "    val.append(p[1])\n",
    "    row.append(p[0][1])\n",
    "    col.append(p[0][0])\n",
    "    val.append(p[1])\n",
    "\n",
    "B = csr_matrix((val, (row, col)))\n",
    "\n",
    "B = normalize(B, norm='l1', axis=1)"
   ]
  },
  {
   "cell_type": "markdown",
   "metadata": {},
   "source": [
    "Solving PageRank as a system of linear equations:"
   ]
  },
  {
   "cell_type": "code",
   "execution_count": null,
   "metadata": {},
   "outputs": [],
   "source": [
    "r = np.linalg.solve(np.eye(B.shape[0]) - (1-alpha)*B.T, (alpha/B.shape[0]) * np.ones((B.shape[0], 1)))\n",
    "print(r)"
   ]
  },
  {
   "cell_type": "markdown",
   "metadata": {},
   "source": [
    "Solving PageRank with matrix inversion:"
   ]
  },
  {
   "cell_type": "code",
   "execution_count": null,
   "metadata": {},
   "outputs": [],
   "source": [
    "r = np.linalg.inv(np.eye(n) - (1-alpha)*B.T) @ np.ones((n, 1)) * (alpha/n)"
   ]
  },
  {
   "cell_type": "code",
   "execution_count": null,
   "metadata": {},
   "outputs": [],
   "source": [
    "r = pagerank(B)\n",
    "# print(r)\n",
    "\n",
    "most_i = np.flip(np.argsort(r)[-10:])\n",
    "pprint([(actors_map_i[k], r[k]) for k in most_i])"
   ]
  }
 ],
 "metadata": {
  "kernelspec": {
   "display_name": "Python 3",
   "language": "python",
   "name": "python3"
  },
  "language_info": {
   "codemirror_mode": {
    "name": "ipython",
    "version": 3
   },
   "file_extension": ".py",
   "mimetype": "text/x-python",
   "name": "python",
   "nbconvert_exporter": "python",
   "pygments_lexer": "ipython3",
   "version": "3.8.10"
  },
  "orig_nbformat": 4
 },
 "nbformat": 4,
 "nbformat_minor": 2
}
