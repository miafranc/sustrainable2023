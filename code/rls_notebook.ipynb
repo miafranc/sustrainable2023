{
 "cells": [
  {
   "cell_type": "code",
   "execution_count": 3,
   "metadata": {},
   "outputs": [],
   "source": [
    "import pandas as pd\n",
    "import numpy as np\n",
    "from pprint import pprint\n",
    "from sklearn.feature_extraction.text import CountVectorizer\n",
    "import nltk\n",
    "from nltk.corpus import stopwords\n",
    "from sklearn.linear_model import LinearRegression\n",
    "from scipy.sparse import hstack, csr_matrix\n",
    "from sklearn.model_selection import train_test_split\n",
    "from sklearn.preprocessing import normalize"
   ]
  },
  {
   "cell_type": "code",
   "execution_count": 4,
   "metadata": {},
   "outputs": [],
   "source": [
    "lamb = 10**-3  # regularization\n",
    "gamma = 10**-2  # learning rate\n",
    "iterations = 1000"
   ]
  },
  {
   "cell_type": "code",
   "execution_count": 7,
   "metadata": {},
   "outputs": [
    {
     "name": "stdout",
     "output_type": "stream",
     "text": [
      "dict_keys(['rating_review', 'review_full'])\n",
      "<class 'scipy.sparse._csr.csr_matrix'> (147579, 85907)\n"
     ]
    }
   ],
   "source": [
    "\n",
    "data = pd.read_csv('New_Delhi_reviews.csv')\n",
    "data = data.to_dict()\n",
    "pprint(data.keys())\n",
    "\n",
    "reviews = [r for r in data['review_full'].values() if type(r) == str]\n",
    "ratings = [data['rating_review'][k] for k in data['rating_review'].keys() if type(data['review_full'][k]) == str]\n",
    "\n",
    "cv = CountVectorizer()\n",
    "# cv = CountVectorizer(stop_words=stopwords.words('english'))\n",
    "X = cv.fit_transform(reviews)\n",
    "print(type(X), X.shape)\n",
    "X = hstack((X, np.ones((X.shape[0], 1))))\n",
    "Y = np.array(ratings)"
   ]
  },
  {
   "cell_type": "code",
   "execution_count": 6,
   "metadata": {},
   "outputs": [
    {
     "name": "stdout",
     "output_type": "stream",
     "text": [
      "Iteration 0: delta=119.81872647107522\n",
      "Iteration 100: delta=0.022091769756447773\n",
      "Iteration 200: delta=0.013760364391445679\n",
      "Iteration 300: delta=0.010852114567688032\n",
      "Iteration 400: delta=0.00921101945445504\n",
      "Iteration 500: delta=0.008085702881894299\n",
      "Iteration 600: delta=0.007245159971959257\n",
      "Iteration 700: delta=0.006588767484888978\n",
      "Iteration 800: delta=0.006060843269637131\n",
      "Iteration 900: delta=0.0056263626878882336\n",
      "---\n",
      "MSE=0.021877432203135986\n"
     ]
    }
   ],
   "source": [
    "X_train, X_test, Y_train, Y_test = train_test_split(X, Y, test_size=0.2)\n",
    "\n",
    "B = X_train.T @ Y_train\n",
    "\n",
    "w = np.random.rand(X_train.shape[1])\n",
    "w_old = np.random.rand(X_train.shape[1])\n",
    "\n",
    "for i in range(iterations):\n",
    "    w -= (gamma/X_train.shape[0]) * (X_train.T @ (X_train @ w) - B + lamb*w)\n",
    "    if i % 100 == 0:\n",
    "        print('Iteration {}: delta={}'.format(i, np.linalg.norm(w - w_old)))\n",
    "    w_old[:] = w\n",
    "\n",
    "print('---')\n",
    "Y_pred = X_test @ w\n",
    "print('MSE={}'.format(np.linalg.norm(Y_test - Y_pred) / Y_test.shape[0]))"
   ]
  }
 ],
 "metadata": {
  "kernelspec": {
   "display_name": "Python 3",
   "language": "python",
   "name": "python3"
  },
  "language_info": {
   "codemirror_mode": {
    "name": "ipython",
    "version": 3
   },
   "file_extension": ".py",
   "mimetype": "text/x-python",
   "name": "python",
   "nbconvert_exporter": "python",
   "pygments_lexer": "ipython3",
   "version": "3.8.10"
  },
  "orig_nbformat": 4
 },
 "nbformat": 4,
 "nbformat_minor": 2
}
